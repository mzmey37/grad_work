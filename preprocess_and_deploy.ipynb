{
 "cells": [
  {
   "cell_type": "code",
   "execution_count": 9,
   "metadata": {
    "collapsed": true
   },
   "outputs": [
    {
     "name": "stdout",
     "output_type": "stream",
     "text": [
      "Collecting matplotlib\n",
      "\u001b[?25l  Downloading https://files.pythonhosted.org/packages/8a/d5/5337662b714c65100f3545ed3909e9478614d1ebf1f692a52981f3f5167b/matplotlib-2.2.2-cp36-cp36m-macosx_10_6_intel.macosx_10_9_intel.macosx_10_9_x86_64.macosx_10_10_intel.macosx_10_10_x86_64.whl (13.7MB)\n",
      "\u001b[K    100% |████████████████████████████████| 13.7MB 3.2MB/s ta 0:00:011\n",
      "\u001b[?25hCollecting pytz (from matplotlib)\n",
      "\u001b[?25l  Downloading https://files.pythonhosted.org/packages/dc/83/15f7833b70d3e067ca91467ca245bae0f6fe56ddc7451aa0dc5606b120f2/pytz-2018.4-py2.py3-none-any.whl (510kB)\n",
      "\u001b[K    100% |████████████████████████████████| 512kB 6.4MB/s ta 0:00:01\n",
      "\u001b[?25hRequirement already satisfied: python-dateutil>=2.1 in /Users/mzmeev/miniconda3/envs/pytorch/lib/python3.6/site-packages (from matplotlib) (2.7.3)\n",
      "Collecting kiwisolver>=1.0.1 (from matplotlib)\n",
      "\u001b[?25l  Downloading https://files.pythonhosted.org/packages/fb/96/619db9bf08f652790fa9f3c3884a67dc43da4bdaa185a5aa2117eb4651e1/kiwisolver-1.0.1-cp36-cp36m-macosx_10_6_intel.macosx_10_9_intel.macosx_10_9_x86_64.macosx_10_10_intel.macosx_10_10_x86_64.whl (108kB)\n",
      "\u001b[K    100% |████████████████████████████████| 112kB 7.7MB/s ta 0:00:01\n",
      "\u001b[?25hCollecting cycler>=0.10 (from matplotlib)\n",
      "  Downloading https://files.pythonhosted.org/packages/f7/d2/e07d3ebb2bd7af696440ce7e754c59dd546ffe1bbe732c8ab68b9c834e61/cycler-0.10.0-py2.py3-none-any.whl\n",
      "Requirement already satisfied: numpy>=1.7.1 in /Users/mzmeev/miniconda3/envs/pytorch/lib/python3.6/site-packages (from matplotlib) (1.14.2)\n",
      "Collecting pyparsing!=2.0.4,!=2.1.2,!=2.1.6,>=2.0.1 (from matplotlib)\n",
      "\u001b[?25l  Downloading https://files.pythonhosted.org/packages/6a/8a/718fd7d3458f9fab8e67186b00abdd345b639976bc7fb3ae722e1b026a50/pyparsing-2.2.0-py2.py3-none-any.whl (56kB)\n",
      "\u001b[K    100% |████████████████████████████████| 61kB 6.6MB/s ta 0:00:011\n",
      "\u001b[?25hRequirement already satisfied: six>=1.10 in /Users/mzmeev/miniconda3/envs/pytorch/lib/python3.6/site-packages (from matplotlib) (1.11.0)\n",
      "Requirement already satisfied: setuptools in /Users/mzmeev/miniconda3/envs/pytorch/lib/python3.6/site-packages (from kiwisolver>=1.0.1->matplotlib) (39.1.0)\n",
      "Installing collected packages: pytz, kiwisolver, cycler, pyparsing, matplotlib\n",
      "Successfully installed cycler-0.10.0 kiwisolver-1.0.1 matplotlib-2.2.2 pyparsing-2.2.0 pytz-2018.4\n"
     ]
    }
   ],
   "source": [
    "! pip install matplotlib"
   ]
  },
  {
   "cell_type": "code",
   "execution_count": 10,
   "metadata": {},
   "outputs": [],
   "source": [
    "import shutil\n",
    "import pickle\n",
    "import numpy as np\n",
    "from collections import Counter\n",
    "from hashlib import sha512\n",
    "from string import ascii_letters\n",
    "from tqdm import tqdm_notebook\n",
    "from utils import Tokenizer\n",
    "import matplotlib.pyplot as plt\n",
    "%matplotlib inline"
   ]
  },
  {
   "cell_type": "code",
   "execution_count": 11,
   "metadata": {},
   "outputs": [],
   "source": [
    "p_raw_text = './data/raw_text.txt'\n",
    "p_filtered_text = './data/filtered_text.txt'\n",
    "p_word_vectors = './data/word_vectors.npy'\n",
    "p_file_idxes = 'data/file_idxes.npy'\n",
    "p_tokenizer = 'data/tokenizer.pickle'\n",
    "p_label2idx = 'data/label2idx.pickle'\n",
    "p_label_counter = 'data/label_counter'\n",
    "p_word2vec = 'data/word2vec.npy'\n",
    "data_path = './data'\n",
    "fields_delimetr = '\\t\\t'\n",
    "labels_delimetr = '##'"
   ]
  },
  {
   "cell_type": "code",
   "execution_count": 12,
   "metadata": {},
   "outputs": [],
   "source": [
    "N_SPLITS = 4# 40\n",
    "LABEL_COUNT_THRESHOLD = 0\n",
    "EMBEDDING_DIM = 200\n",
    "FILES_IN_FOLDER = 5# 3000\n",
    "WORDS_IN_BATCH = 350# 350 * 64\n",
    "MAX_BATCH_SIZE = 100# 256\n",
    "N_WORDS = 1500"
   ]
  },
  {
   "cell_type": "markdown",
   "metadata": {},
   "source": [
    "    Make fake raw texts and word vectors"
   ]
  },
  {
   "cell_type": "code",
   "execution_count": 13,
   "metadata": {},
   "outputs": [
    {
     "data": {
      "text/plain": [
       "'xJdW bCuCq BIaRPl vhXE XeNrVf. hhpCZs xeCmht Vzy fMWSCe FVkXAH iuWfR OcZuhq HdVzx Nmwjed DxTZRP. ivIx iKKpk xqR VuO yvHAGK kxRjsH ZExqd BRgLc.'"
      ]
     },
     "execution_count": 13,
     "metadata": {},
     "output_type": "execute_result"
    }
   ],
   "source": [
    "letter_list = list(ascii_letters)\n",
    "def generate_word():\n",
    "    word_len = np.random.randint(3, 7)\n",
    "    return ''.join(np.random.choice(letter_list, word_len))\n",
    "\n",
    "def generate_sentence():\n",
    "    sent_len = np.random.binomial(10, 0.5) + 1\n",
    "    return ' '.join([generate_word() for _ in range(sent_len)]) + '.'\n",
    "\n",
    "def generate_text():\n",
    "    sent_number = np.random.binomial(5, 0.5) + 1\n",
    "    return ' '.join([generate_sentence() for _ in range(sent_number)])\n",
    "\n",
    "generate_text()"
   ]
  },
  {
   "cell_type": "code",
   "execution_count": 14,
   "metadata": {},
   "outputs": [
    {
     "data": {
      "application/vnd.jupyter.widget-view+json": {
       "model_id": "7e86246d3eec4cb1be9cbde5155fba7f",
       "version_major": 2,
       "version_minor": 0
      },
      "text/plain": [
       "HBox(children=(IntProgress(value=0, max=5000), HTML(value='')))"
      ]
     },
     "metadata": {},
     "output_type": "display_data"
    },
    {
     "name": "stdout",
     "output_type": "stream",
     "text": [
      "\n"
     ]
    }
   ],
   "source": [
    "with open(p_raw_text, 'w') as fraw:\n",
    "    for i in tqdm_notebook(range(5000)):\n",
    "        labels = labels_delimetr.join([generate_word() for _ in range(3)])\n",
    "        text, title = generate_text(), generate_sentence()\n",
    "        fraw.write(fields_delimetr.join([labels, title, text]) + '\\n')"
   ]
  },
  {
   "cell_type": "code",
   "execution_count": 15,
   "metadata": {},
   "outputs": [
    {
     "data": {
      "application/vnd.jupyter.widget-view+json": {
       "model_id": "45ddfd8b8c24402d8b31afbfa9e38efc",
       "version_major": 2,
       "version_minor": 0
      },
      "text/plain": [
       "HBox(children=(IntProgress(value=0, max=10000), HTML(value='')))"
      ]
     },
     "metadata": {},
     "output_type": "display_data"
    },
    {
     "name": "stdout",
     "output_type": "stream",
     "text": [
      "\n"
     ]
    }
   ],
   "source": [
    "with open(p_word_vectors, 'w') as fwv:\n",
    "    for i in tqdm_notebook(range(10000)):\n",
    "        word = generate_word().lower()\n",
    "        vec = np.random.randn(200)\n",
    "        fwv.write('\\t'.join([word, ' '.join(vec.astype('float32').astype(str))]) + '\\n')"
   ]
  },
  {
   "cell_type": "markdown",
   "metadata": {},
   "source": [
    "    Reading"
   ]
  },
  {
   "cell_type": "code",
   "execution_count": 16,
   "metadata": {},
   "outputs": [
    {
     "data": {
      "application/vnd.jupyter.widget-view+json": {
       "model_id": "e81959857e60461e8499fba400cb7256",
       "version_major": 2,
       "version_minor": 0
      },
      "text/plain": [
       "HBox(children=(IntProgress(value=1, bar_style='info', description='read raw', max=1), HTML(value='')))"
      ]
     },
     "metadata": {},
     "output_type": "display_data"
    },
    {
     "name": "stdout",
     "output_type": "stream",
     "text": [
      "\n"
     ]
    }
   ],
   "source": [
    "def get_hash(text):\n",
    "    return sha512(text.encode()).hexdigest()\n",
    "\n",
    "hash_set = set()\n",
    "filtered_texts, filtered_labels = [], []\n",
    "with open(p_raw_text, 'r') as fraw:\n",
    "    for line in tqdm_notebook(fraw, desc='read raw'):\n",
    "        line = line.replace('\\n', '').lower().strip()\n",
    "        labels, title, text = line.split(fields_delimetr)\n",
    "        text_hash = get_hash(text)\n",
    "        if text_hash not in hash_set:\n",
    "            hash_set.add(text_hash)\n",
    "            filtered_texts.append(' '.join([title, text]))\n",
    "            filtered_labels.append(labels)"
   ]
  },
  {
   "cell_type": "markdown",
   "metadata": {},
   "source": [
    "    Make label2idx"
   ]
  },
  {
   "cell_type": "code",
   "execution_count": 17,
   "metadata": {},
   "outputs": [
    {
     "data": {
      "application/vnd.jupyter.widget-view+json": {
       "model_id": "bbd1542e9f744c76a6c3fa5a711edab4",
       "version_major": 2,
       "version_minor": 0
      },
      "text/plain": [
       "HBox(children=(IntProgress(value=0, description='updating label counter', max=5000), HTML(value='')))"
      ]
     },
     "metadata": {},
     "output_type": "display_data"
    },
    {
     "name": "stdout",
     "output_type": "stream",
     "text": [
      "\n"
     ]
    },
    {
     "data": {
      "text/plain": [
       "[('pab', 4)]"
      ]
     },
     "execution_count": 17,
     "metadata": {},
     "output_type": "execute_result"
    }
   ],
   "source": [
    "label_counter = Counter()\n",
    "for label_line in tqdm_notebook(filtered_labels, desc='updating label counter'):\n",
    "    label_counter.update(label_line.split(labels_delimetr))\n",
    "label2idx = {label: idx for idx, (label, count) in enumerate(label_counter.most_common())\n",
    "             if count >= LABEL_COUNT_THRESHOLD}\n",
    "label_counter.most_common(1)"
   ]
  },
  {
   "cell_type": "markdown",
   "metadata": {},
   "source": [
    "    Tokenize and collect words in tokenizer"
   ]
  },
  {
   "cell_type": "code",
   "execution_count": 18,
   "metadata": {},
   "outputs": [
    {
     "data": {
      "application/vnd.jupyter.widget-view+json": {
       "model_id": "317707694a2d4c17b6cea64fb65dc2ce",
       "version_major": 2,
       "version_minor": 0
      },
      "text/plain": [
       "HBox(children=(IntProgress(value=0, description='tokenizing', max=5000), HTML(value='')))"
      ]
     },
     "metadata": {},
     "output_type": "display_data"
    },
    {
     "name": "stdout",
     "output_type": "stream",
     "text": [
      "\n"
     ]
    }
   ],
   "source": [
    "tokenizer = Tokenizer()\n",
    "lens = np.array([len(tokenizer.tokenize(t, update_words=True))\n",
    "                 for t in tqdm_notebook(filtered_texts, desc='tokenizing')])"
   ]
  },
  {
   "cell_type": "markdown",
   "metadata": {},
   "source": [
    "    Merge tokenizer with word vectors"
   ]
  },
  {
   "cell_type": "code",
   "execution_count": 19,
   "metadata": {},
   "outputs": [
    {
     "data": {
      "text/plain": [
       "115307"
      ]
     },
     "execution_count": 19,
     "metadata": {},
     "output_type": "execute_result"
    }
   ],
   "source": [
    "len(tokenizer.word_count)"
   ]
  },
  {
   "cell_type": "code",
   "execution_count": 20,
   "metadata": {},
   "outputs": [
    {
     "data": {
      "application/vnd.jupyter.widget-view+json": {
       "model_id": "45a667dafb154aed997b4993f12921dc",
       "version_major": 2,
       "version_minor": 0
      },
      "text/plain": [
       "HBox(children=(IntProgress(value=1, bar_style='info', description='read vectors', max=1), HTML(value='')))"
      ]
     },
     "metadata": {},
     "output_type": "display_data"
    },
    {
     "name": "stdout",
     "output_type": "stream",
     "text": [
      "\n"
     ]
    },
    {
     "data": {
      "application/vnd.jupyter.widget-view+json": {
       "model_id": "1ec4e472f5b649ec8ed6c48aa7013b4e",
       "version_major": 2,
       "version_minor": 0
      },
      "text/plain": [
       "HBox(children=(IntProgress(value=0, description='looking for words to remove', max=115307), HTML(value='')))"
      ]
     },
     "metadata": {},
     "output_type": "display_data"
    },
    {
     "name": "stdout",
     "output_type": "stream",
     "text": [
      "\n"
     ]
    },
    {
     "data": {
      "application/vnd.jupyter.widget-view+json": {
       "model_id": "ef52adfbd65a4fa0aa5f6906e3a27d56",
       "version_major": 2,
       "version_minor": 0
      },
      "text/plain": [
       "HBox(children=(IntProgress(value=0, description='removing words', max=113217), HTML(value='')))"
      ]
     },
     "metadata": {},
     "output_type": "display_data"
    },
    {
     "name": "stdout",
     "output_type": "stream",
     "text": [
      "\n"
     ]
    }
   ],
   "source": [
    "word2vec = {}\n",
    "with open(p_word_vectors, 'r') as fwv:\n",
    "    for line in tqdm_notebook(fwv, desc='read vectors'):\n",
    "        word, vec = line.strip().split('\\t')\n",
    "        word2vec[word] = vec\n",
    "words2remove = set()\n",
    "for word in tqdm_notebook(tokenizer.word_count, desc='looking for words to remove'):\n",
    "    if word not in word2vec:\n",
    "        words2remove.add(word)\n",
    "for word in tqdm_notebook(words2remove, desc='removing words'):\n",
    "    tokenizer.word2idx.pop(word)\n",
    "    tokenizer.word_count.pop(word)"
   ]
  },
  {
   "cell_type": "code",
   "execution_count": 21,
   "metadata": {},
   "outputs": [
    {
     "data": {
      "text/plain": [
       "2090"
      ]
     },
     "execution_count": 21,
     "metadata": {},
     "output_type": "execute_result"
    }
   ],
   "source": [
    "len(tokenizer.word_count)"
   ]
  },
  {
   "cell_type": "code",
   "execution_count": 22,
   "metadata": {},
   "outputs": [
    {
     "data": {
      "text/plain": [
       "1500"
      ]
     },
     "execution_count": 22,
     "metadata": {},
     "output_type": "execute_result"
    }
   ],
   "source": [
    "tokenizer.shrink(N_WORDS)\n",
    "len(tokenizer.word_count)"
   ]
  },
  {
   "cell_type": "markdown",
   "metadata": {},
   "source": [
    "    Make padded lens from lens"
   ]
  },
  {
   "cell_type": "code",
   "execution_count": 23,
   "metadata": {},
   "outputs": [],
   "source": [
    "def get_pad_lens(lens, n_splits=40):\n",
    "    percentiles = np.percentile(lens, np.linspace(0, 100, n_splits + 1)[1:]).astype('int')\n",
    "    sorted_pad_lens = np.sort(percentiles)\n",
    "    percentiles = np.repeat([percentiles], len(lens), axis=0)\n",
    "    return sorted_pad_lens[np.argmax(np.greater_equal(percentiles, lens.reshape(-1, 1)), axis=1)]"
   ]
  },
  {
   "cell_type": "code",
   "execution_count": 24,
   "metadata": {},
   "outputs": [],
   "source": [
    "pad_lens = get_pad_lens(lens, n_splits=N_SPLITS)"
   ]
  },
  {
   "cell_type": "code",
   "execution_count": 25,
   "metadata": {},
   "outputs": [
    {
     "data": {
      "image/png": "[encoded data removed]",
      "text/plain": [
       "<Figure size 432x288 with 1 Axes>"
      ]
     },
     "metadata": {},
     "output_type": "display_data"
    }
   ],
   "source": [
    "h = plt.hist(pad_lens - lens, bins=33)"
   ]
  },
  {
   "cell_type": "code",
   "execution_count": 26,
   "metadata": {},
   "outputs": [],
   "source": [
    "unique_pad_lens = np.unique(pad_lens)"
   ]
  },
  {
   "cell_type": "markdown",
   "metadata": {},
   "source": [
    "    Make dict from pad_len to text idxes"
   ]
  },
  {
   "cell_type": "code",
   "execution_count": 27,
   "metadata": {},
   "outputs": [],
   "source": [
    "pad_len2idxes = {}\n",
    "for pad_len in unique_pad_lens:\n",
    "    pad_len2idxes[pad_len] = np.arange(len(filtered_texts))[pad_lens==pad_len]\n",
    "    np.random.shuffle(pad_len2idxes[pad_len])"
   ]
  },
  {
   "cell_type": "markdown",
   "metadata": {},
   "source": [
    "    Functions to write batches in format:\n",
    "    - data_path\n",
    "        - len{pad_len}\n",
    "            - {number_of_dir_inside_batches_with_such_len}\n",
    "                - {idx_of_batch}\n",
    "    Inside file:\n",
    "    {label1}##{label_2}##...##{label_n}\\t\\t{word_1_idx} {word_2_idx} ... {word_m_idx}"
   ]
  },
  {
   "cell_type": "code",
   "execution_count": 28,
   "metadata": {},
   "outputs": [],
   "source": [
    "def write_batch(batch, path):\n",
    "    with open(path, 'w') as f:\n",
    "        for idx in batch:\n",
    "            f.write('\\t'.join([\n",
    "                filtered_labels[idx],\n",
    "                ' '.join(map(str, tokenizer.tokenize(filtered_texts[idx])))\n",
    "            ]) + '\\n')\n",
    "\n",
    "\n",
    "def get_dir_path(path, *idxes):\n",
    "    return shutil.os.path.join(path, *map(str, idxes))\n",
    "\n",
    "\n",
    "def write_batches(idxes, path, batch_size):\n",
    "    dir_idx = 0\n",
    "    shutil.os.mkdir(get_dir_path(path, dir_idx))\n",
    "    for batch_idx, start_idx in tqdm_notebook(enumerate(range(0, len(idxes), batch_size)), desc=path):\n",
    "        end_idx = min(start_idx + batch_size, len(idxes))\n",
    "        if len(shutil.os.listdir(get_dir_path(path, dir_idx))) == FILES_IN_FOLDER:\n",
    "            dir_idx += 1\n",
    "            shutil.os.mkdir(get_dir_path(path, dir_idx))\n",
    "        write_batch(idxes[start_idx : end_idx], get_dir_path(path, dir_idx, batch_idx))"
   ]
  },
  {
   "cell_type": "code",
   "execution_count": 29,
   "metadata": {
    "scrolled": true
   },
   "outputs": [
    {
     "name": "stdout",
     "output_type": "stream",
     "text": [
      "raw_text.txt     word_vectors.npy\r\n"
     ]
    }
   ],
   "source": [
    "! ls data/"
   ]
  },
  {
   "cell_type": "markdown",
   "metadata": {},
   "source": [
    "    Drop old dirs"
   ]
  },
  {
   "cell_type": "code",
   "execution_count": 22,
   "metadata": {},
   "outputs": [],
   "source": [
    "for dir_name in shutil.os.listdir(data_path):\n",
    "    if dir_name.startswith('len'):\n",
    "        shutil.rmtree(shutil.os.path.join(data_path, dir_name))"
   ]
  },
  {
   "cell_type": "code",
   "execution_count": 23,
   "metadata": {
    "scrolled": true
   },
   "outputs": [
    {
     "name": "stdout",
     "output_type": "stream",
     "text": [
      "file_idxes.npy   label_counter    tokenizer.pickle word_vectors.npy\r\n",
      "label2idx.pickle raw_text.txt     word_vectors\r\n"
     ]
    }
   ],
   "source": [
    "! ls data/"
   ]
  },
  {
   "cell_type": "markdown",
   "metadata": {},
   "source": [
    "    Make writing"
   ]
  },
  {
   "cell_type": "code",
   "execution_count": 24,
   "metadata": {},
   "outputs": [
    {
     "data": {
      "application/vnd.jupyter.widget-view+json": {
       "model_id": "c8baece97fb4473898ac368dcb641ff0",
       "version_major": 2,
       "version_minor": 0
      },
      "text/plain": [
       "HBox(children=(IntProgress(value=1, bar_style='info', description='./data/len22', max=1), HTML(value='')))"
      ]
     },
     "metadata": {},
     "output_type": "display_data"
    },
    {
     "name": "stdout",
     "output_type": "stream",
     "text": [
      "\n"
     ]
    },
    {
     "data": {
      "application/vnd.jupyter.widget-view+json": {
       "model_id": "9c3ec9bbf8b14210a1c48d2b5816f9fe",
       "version_major": 2,
       "version_minor": 0
      },
      "text/plain": [
       "HBox(children=(IntProgress(value=1, bar_style='info', description='./data/len27', max=1), HTML(value='')))"
      ]
     },
     "metadata": {},
     "output_type": "display_data"
    },
    {
     "name": "stdout",
     "output_type": "stream",
     "text": [
      "\n"
     ]
    },
    {
     "data": {
      "application/vnd.jupyter.widget-view+json": {
       "model_id": "329bdd49874e483695e03974c1006291",
       "version_major": 2,
       "version_minor": 0
      },
      "text/plain": [
       "HBox(children=(IntProgress(value=1, bar_style='info', description='./data/len32', max=1), HTML(value='')))"
      ]
     },
     "metadata": {},
     "output_type": "display_data"
    },
    {
     "name": "stdout",
     "output_type": "stream",
     "text": [
      "\n"
     ]
    },
    {
     "data": {
      "application/vnd.jupyter.widget-view+json": {
       "model_id": "b62b137d918a4c24aabae39804cf82c7",
       "version_major": 2,
       "version_minor": 0
      },
      "text/plain": [
       "HBox(children=(IntProgress(value=1, bar_style='info', description='./data/len54', max=1), HTML(value='')))"
      ]
     },
     "metadata": {},
     "output_type": "display_data"
    },
    {
     "name": "stdout",
     "output_type": "stream",
     "text": [
      "\n"
     ]
    }
   ],
   "source": [
    "for pad_len, idxes in pad_len2idxes.items():\n",
    "    path = shutil.os.path.join('./data/', 'len' + str(pad_len))\n",
    "    shutil.os.mkdir(path)\n",
    "    write_batches(idxes, path, min(MAX_BATCH_SIZE, WORDS_IN_BATCH // pad_len))"
   ]
  },
  {
   "cell_type": "markdown",
   "metadata": {},
   "source": [
    "    Look at lens histogram"
   ]
  },
  {
   "cell_type": "code",
   "execution_count": 25,
   "metadata": {},
   "outputs": [
    {
     "data": {
      "image/png": "[encoded data removed]",
      "text/plain": [
       "<Figure size 864x576 with 1 Axes>"
      ]
     },
     "metadata": {},
     "output_type": "display_data"
    }
   ],
   "source": [
    "fig, ax = plt.subplots(figsize=[12, 8])\n",
    "d = ax.hist(lens, bins=100, density=True)\n",
    "for l in unique_pad_lens:\n",
    "    ax.plot([l, l], [0, max(d[0])], c='r')"
   ]
  },
  {
   "cell_type": "code",
   "execution_count": 26,
   "metadata": {},
   "outputs": [],
   "source": [
    "pad_len2size = {pad_len: len(idxes) for pad_len, idxes in pad_len2idxes.items()}"
   ]
  },
  {
   "cell_type": "markdown",
   "metadata": {},
   "source": [
    "    Prepare paths for reading:\n",
    "    file_idxes contains [{pad_len}, {dir_number}, {batch_number}]"
   ]
  },
  {
   "cell_type": "code",
   "execution_count": 27,
   "metadata": {},
   "outputs": [],
   "source": [
    "file_idxes = []\n",
    "for pad_len in unique_pad_lens:\n",
    "    pad_len_dir = shutil.os.path.join(data_path, 'len' + str(pad_len))\n",
    "    for dir_name in shutil.os.listdir(pad_len_dir):\n",
    "        for file_name in shutil.os.listdir(shutil.os.path.join(pad_len_dir, dir_name)):\n",
    "            file_idxes.append([pad_len, int(dir_name), int(file_name)])\n",
    "file_idxes = np.array(file_idxes)\n",
    "np.random.shuffle(file_idxes)"
   ]
  },
  {
   "cell_type": "code",
   "execution_count": 28,
   "metadata": {},
   "outputs": [],
   "source": [
    "from tensorflow import keras\n",
    "pad_sequences = keras.preprocessing.sequence.pad_sequences"
   ]
  },
  {
   "cell_type": "code",
   "execution_count": 29,
   "metadata": {},
   "outputs": [],
   "source": [
    "def read_batch(data_path, batch_idxes):\n",
    "    path = shutil.os.path.join(data_path, 'len' + str(batch_idxes[0]), *map(str, batch_idxes[1:]))\n",
    "    sequences, label_idxes = [], []\n",
    "    with open(path, 'r') as f:\n",
    "        for line in f:\n",
    "            try:\n",
    "                label_set, text = line.strip().split('\\t', 1)\n",
    "                label_set = label_set.split(labels_delimetr)\n",
    "                label_set = [label2idx[l] for l in label_set]\n",
    "                label_idxes.append(label_set)\n",
    "                sequences.append(list(map(int, text.split())))\n",
    "            except:\n",
    "                pass\n",
    "    result_labels = np.zeros([len(sequences), len(label2idx)], dtype='int')\n",
    "    for i, label_list in enumerate(label_idxes):\n",
    "        result_labels[i, label_list] = 1\n",
    "    return pad_sequences(sequences) if len(sequences) > 0 else np.array([[]]), result_labels"
   ]
  },
  {
   "cell_type": "code",
   "execution_count": 30,
   "metadata": {},
   "outputs": [],
   "source": [
    "def generator(file_idxes, data_path):\n",
    "    for file_idx in file_idxes:\n",
    "        yield read_batch(data_path, file_idx)"
   ]
  },
  {
   "cell_type": "code",
   "execution_count": 31,
   "metadata": {},
   "outputs": [],
   "source": [
    "word_vectors = np.zeros([len(tokenizer.word2idx), EMBEDDING_DIM], dtype='float32')\n",
    "for word, idx in tokenizer.word2idx.items():\n",
    "    if idx != 0:\n",
    "        word_vectors[idx] = np.random.randn(200)# word2vec[word]"
   ]
  },
  {
   "cell_type": "code",
   "execution_count": 32,
   "metadata": {
    "scrolled": true
   },
   "outputs": [
    {
     "name": "stdout",
     "output_type": "stream",
     "text": [
      "0 [[793]\n",
      " [705]\n",
      " [204]\n",
      " [285]] [[0 0 0 ... 0 0 0]\n",
      " [0 0 0 ... 0 0 0]\n",
      " [0 0 0 ... 0 0 0]\n",
      " [0 0 0 ... 0 0 0]]\n"
     ]
    }
   ],
   "source": [
    "for i, (seq, lab) in enumerate(generator(file_idxes, data_path)):\n",
    "    print(i, seq, lab)\n",
    "    break"
   ]
  },
  {
   "cell_type": "code",
   "execution_count": 33,
   "metadata": {},
   "outputs": [],
   "source": [
    "np.save(p_file_idxes, file_idxes)\n",
    "np.save(p_word_vectors, word_vectors)\n",
    "with open(p_label2idx, 'wb') as f:\n",
    "    pickle.dump(label2idx, f)\n",
    "with open(p_label_counter, 'wb') as f:\n",
    "    pickle.dump(label_counter, f)\n",
    "with open(p_tokenizer, 'wb') as f:\n",
    "    pickle.dump(tokenizer, f)"
   ]
  },
  {
   "cell_type": "code",
   "execution_count": 34,
   "metadata": {},
   "outputs": [
    {
     "name": "stdout",
     "output_type": "stream",
     "text": [
      "file_idxes.npy   \u001b[34mlen22\u001b[m\u001b[m            \u001b[34mlen54\u001b[m\u001b[m            word_vectors\r\n",
      "label2idx.pickle \u001b[34mlen27\u001b[m\u001b[m            raw_text.txt     word_vectors.npy\r\n",
      "label_counter    \u001b[34mlen32\u001b[m\u001b[m            tokenizer.pickle\r\n"
     ]
    }
   ],
   "source": [
    "! ls data"
   ]
  },
  {
   "cell_type": "code",
   "execution_count": null,
   "metadata": {},
   "outputs": [],
   "source": []
  },
  {
   "cell_type": "code",
   "execution_count": 35,
   "metadata": {},
   "outputs": [],
   "source": [
    "file_idxes = np.load(p_file_idxes)\n",
    "word_vectors = np.load(p_word_vectors)\n",
    "with open(p_label2idx, 'rb') as f:\n",
    "    label2idx = pickle.load(f)\n",
    "with open(p_label_counter, 'rb') as f:\n",
    "    label_counter = pickle.load(f)\n",
    "with open(p_tokenizer, 'rb') as f:\n",
    "    tokenizer = pickle.load(f)"
   ]
  },
  {
   "cell_type": "code",
   "execution_count": null,
   "metadata": {},
   "outputs": [],
   "source": []
  },
  {
   "cell_type": "code",
   "execution_count": null,
   "metadata": {},
   "outputs": [],
   "source": []
  }
 ],
 "metadata": {
  "kernelspec": {
   "display_name": "Python 3",
   "language": "python",
   "name": "python3"
  },
  "language_info": {
   "codemirror_mode": {
    "name": "ipython",
    "version": 3
   },
   "file_extension": ".py",
   "mimetype": "text/x-python",
   "name": "python",
   "nbconvert_exporter": "python",
   "pygments_lexer": "ipython3",
   "version": "3.6.5"
  }
 },
 "nbformat": 4,
 "nbformat_minor": 2
}
