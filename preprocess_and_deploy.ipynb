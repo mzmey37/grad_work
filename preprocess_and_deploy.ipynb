{
 "cells": [
  {
   "cell_type": "code",
   "execution_count": 1,
   "metadata": {},
   "outputs": [
    {
     "name": "stderr",
     "output_type": "stream",
     "text": [
      "/Users/mzmeev/miniconda3/envs/pytorch/lib/python3.6/site-packages/h5py/__init__.py:36: FutureWarning: Conversion of the second argument of issubdtype from `float` to `np.floating` is deprecated. In future, it will be treated as `np.float64 == np.dtype(float).type`.\n",
      "  from ._conv import register_converters as _register_converters\n",
      "Using TensorFlow backend.\n"
     ]
    }
   ],
   "source": [
    "import shutil\n",
    "import pickle\n",
    "import numpy as np\n",
    "from collections import Counter\n",
    "from string import ascii_letters\n",
    "from timeit import time\n",
    "\n",
    "from tqdm import tqdm_notebook\n",
    "from utils import utils\n",
    "import matplotlib.pyplot as plt\n",
    "%matplotlib inline"
   ]
  },
  {
   "cell_type": "code",
   "execution_count": 2,
   "metadata": {},
   "outputs": [],
   "source": [
    "P_RAW_TEXTS = './data/raw_text.txt'\n",
    "P_FILE_IDXES = 'data/file_idxes.npy'\n",
    "P_TOKENIZER = 'data/tokenizer.pickle'\n",
    "P_LABEL2IDX = 'data/label2idx.pickle'\n",
    "P_LABEL_COUNTER = 'data/label_counter.pickle'\n",
    "P_DATA = './data'\n",
    "FIELDS_DELIMETR = '\\t\\t'\n",
    "LABELS_DELIMETR = '##'"
   ]
  },
  {
   "cell_type": "code",
   "execution_count": 3,
   "metadata": {},
   "outputs": [],
   "source": [
    "N_SPLITS = 4# 40\n",
    "LABEL_COUNT_THRESHOLD = 0\n",
    "EMBEDDING_DIM = 200\n",
    "FILES_IN_FOLDER = 5# 3000\n",
    "WORDS_IN_BATCH = 350# 350 * 64\n",
    "MAX_BATCH_SIZE = 100# 256\n",
    "N_WORDS = 3000"
   ]
  },
  {
   "cell_type": "markdown",
   "metadata": {},
   "source": [
    "    Make fake raw texts and word vectors"
   ]
  },
  {
   "cell_type": "code",
   "execution_count": 4,
   "metadata": {},
   "outputs": [
    {
     "data": {
      "text/plain": [
       "'cab bbdadd baddc cacad dccc dcd ccabab. dbdba dac accadb dcc bcccc ddacbb. cccabb dbdba dbacb aaaccd bbcdd. bcb abcdac cccb dbad ccbc bbcdba.'"
      ]
     },
     "execution_count": 4,
     "metadata": {},
     "output_type": "execute_result"
    }
   ],
   "source": [
    "letter_list = list(ascii_letters)[:4]\n",
    "def generate_word():\n",
    "    word_len = np.random.randint(3, 7)\n",
    "    return ''.join(np.random.choice(letter_list, word_len))\n",
    "\n",
    "def generate_sentence():\n",
    "    sent_len = np.random.binomial(10, 0.5) + 1\n",
    "    return ' '.join([generate_word() for _ in range(sent_len)]) + '.'\n",
    "\n",
    "def generate_text():\n",
    "    sent_number = np.random.binomial(5, 0.5) + 1\n",
    "    return ' '.join([generate_sentence() for _ in range(sent_number)])\n",
    "\n",
    "generate_text()"
   ]
  },
  {
   "cell_type": "code",
   "execution_count": 5,
   "metadata": {},
   "outputs": [
    {
     "data": {
      "application/vnd.jupyter.widget-view+json": {
       "model_id": "21cf9139ca844edf80dfc427740d8f47",
       "version_major": 2,
       "version_minor": 0
      },
      "text/plain": [
       "HBox(children=(IntProgress(value=0, max=5000), HTML(value='')))"
      ]
     },
     "metadata": {},
     "output_type": "display_data"
    },
    {
     "name": "stdout",
     "output_type": "stream",
     "text": [
      "\n"
     ]
    }
   ],
   "source": [
    "with open(P_RAW_TEXTS, 'w') as fraw:\n",
    "    for i in tqdm_notebook(range(5000)):\n",
    "        labels = LABELS_DELIMETR.join([generate_word() for _ in range(np.random.randint(3, 7))])\n",
    "        text, title = generate_text(), generate_sentence()\n",
    "        fraw.write(FIELDS_DELIMETR.join([labels, title, text]) + '\\n')"
   ]
  },
  {
   "cell_type": "code",
   "execution_count": 6,
   "metadata": {},
   "outputs": [
    {
     "data": {
      "application/vnd.jupyter.widget-view+json": {
       "model_id": "fb9fc9aca30443c99d6f1fad94cfa58e",
       "version_major": 2,
       "version_minor": 0
      },
      "text/plain": [
       "HBox(children=(IntProgress(value=0, max=10000), HTML(value='')))"
      ]
     },
     "metadata": {},
     "output_type": "display_data"
    },
    {
     "name": "stdout",
     "output_type": "stream",
     "text": [
      "\n"
     ]
    }
   ],
   "source": [
    "with open('./data/word_vectors.txt', 'w') as fwv:\n",
    "    for i in tqdm_notebook(range(10000)):\n",
    "        word = generate_word().lower()\n",
    "        vec = np.random.randn(200)\n",
    "        fwv.write('\\t'.join([word, ' '.join(vec.astype('float32').astype(str))]) + '\\n')"
   ]
  },
  {
   "cell_type": "markdown",
   "metadata": {},
   "source": [
    "### Start preprocessing"
   ]
  },
  {
   "cell_type": "code",
   "execution_count": 7,
   "metadata": {},
   "outputs": [
    {
     "data": {
      "application/vnd.jupyter.widget-view+json": {
       "model_id": "e930ee2a470540be95d6fdb9952ffb78",
       "version_major": 2,
       "version_minor": 0
      },
      "text/plain": [
       "HBox(children=(IntProgress(value=1, bar_style='info', description='read raw text', max=1), HTML(value='')))"
      ]
     },
     "metadata": {},
     "output_type": "display_data"
    },
    {
     "name": "stdout",
     "output_type": "stream",
     "text": [
      "\n"
     ]
    },
    {
     "data": {
      "application/vnd.jupyter.widget-view+json": {
       "model_id": "7047b363addb4c5cb45ace5e700853aa",
       "version_major": 2,
       "version_minor": 0
      },
      "text/plain": [
       "HBox(children=(IntProgress(value=0, description='label counter', max=5000), HTML(value='')))"
      ]
     },
     "metadata": {},
     "output_type": "display_data"
    },
    {
     "name": "stdout",
     "output_type": "stream",
     "text": [
      "\n"
     ]
    },
    {
     "data": {
      "application/vnd.jupyter.widget-view+json": {
       "model_id": "83ccb04f9926439b9f035f6ba96acc0f",
       "version_major": 2,
       "version_minor": 0
      },
      "text/plain": [
       "HBox(children=(IntProgress(value=0, description='tokenizing', max=5000), HTML(value='')))"
      ]
     },
     "metadata": {},
     "output_type": "display_data"
    },
    {
     "name": "stdout",
     "output_type": "stream",
     "text": [
      "\n"
     ]
    },
    {
     "data": {
      "application/vnd.jupyter.widget-view+json": {
       "model_id": "807a0dbe586846f598852cf5e9a5fce4",
       "version_major": 2,
       "version_minor": 0
      },
      "text/plain": [
       "HBox(children=(IntProgress(value=0, description='writing batches', max=4), HTML(value='')))"
      ]
     },
     "metadata": {},
     "output_type": "display_data"
    },
    {
     "name": "stdout",
     "output_type": "stream",
     "text": [
      "\n",
      "Done at 1.26031 seconds\n"
     ]
    },
    {
     "data": {
      "image/png": "[encoded data removed]",
      "text/plain": [
       "<Figure size 864x576 with 2 Axes>"
      ]
     },
     "metadata": {},
     "output_type": "display_data"
    }
   ],
   "source": [
    "start_time = time.time()\n",
    "\n",
    "hash_set = set()\n",
    "filtered_texts, filtered_labels = [], []\n",
    "\n",
    "\n",
    "# Read and drop duplicated texts\n",
    "with open(P_RAW_TEXTS, 'r') as fraw:\n",
    "    for line in tqdm_notebook(fraw, desc='read raw text'):\n",
    "        line = line.replace('\\n', '').lower().strip()\n",
    "        labels, title, text = line.split(FIELDS_DELIMETR)\n",
    "        text_hash = utils.get_hash(text)\n",
    "        if text_hash not in hash_set:\n",
    "            hash_set.add(text_hash)\n",
    "            filtered_texts.append(' '.join([title, text]))\n",
    "            filtered_labels.append(labels)\n",
    "\n",
    "\n",
    "# Populate label_counter\n",
    "label_counter = Counter()\n",
    "for label_line in tqdm_notebook(filtered_labels, desc='label counter'):\n",
    "    label_counter.update(label_line.split(LABELS_DELIMETR))\n",
    "label2idx = {label: idx for idx, (label, count) in enumerate(label_counter.most_common())\n",
    "             if count >= LABEL_COUNT_THRESHOLD}\n",
    "\n",
    "\n",
    "# Tokenize and get lengths\n",
    "tokenizer = utils.Tokenizer()\n",
    "lens = np.array([len(tokenizer.tokenize(t, update_words=True))\n",
    "                 for t in tqdm_notebook(filtered_texts, desc='tokenizing')])\n",
    "tokenizer.shrink(N_WORDS)\n",
    "\n",
    "\n",
    "# Get padded lengths\n",
    "pad_lens = utils.get_pad_lens(lens, n_splits=N_SPLITS)\n",
    "unique_pad_lens = np.unique(pad_lens)\n",
    "\n",
    "\n",
    "# Plot lengths distribution\n",
    "fig, axes = plt.subplots(2, figsize=[12, 8])\n",
    "_ = axes[0].hist(lens, bins=43, label='lengths')\n",
    "_ = axes[1].hist(pad_lens - lens, bins=10, label='padding lengths')\n",
    "_ = axes[0].legend(), axes[1].legend()\n",
    "\n",
    "\n",
    "\n",
    "# Match texts with length group\n",
    "pad_len2idxes = {}\n",
    "for pad_len in unique_pad_lens:\n",
    "    pad_len2idxes[pad_len] = np.arange(len(filtered_texts))[pad_lens==pad_len]\n",
    "    np.random.shuffle(pad_len2idxes[pad_len])\n",
    "\n",
    "\n",
    "# Write all texts in batches\n",
    "for pad_len, idxes in tqdm_notebook(pad_len2idxes.items(), desc='writing batches'):\n",
    "    path = shutil.os.path.join(P_DATA, 'len' + str(pad_len))\n",
    "    if shutil.os.path.exists(path):\n",
    "        shutil.rmtree(path)\n",
    "    shutil.os.mkdir(path)\n",
    "    utils.write_batches(idxes, path, min(MAX_BATCH_SIZE, WORDS_IN_BATCH // pad_len),\n",
    "                        filtered_labels, filtered_texts, FILES_IN_FOLDER)\n",
    "\n",
    "\n",
    "# Collect indices for batches\n",
    "file_idxes = []\n",
    "for pad_len in unique_pad_lens:\n",
    "    pad_len_dir = shutil.os.path.join(P_DATA, 'len' + str(pad_len))\n",
    "    for dir_name in shutil.os.listdir(pad_len_dir):\n",
    "        for file_name in shutil.os.listdir(shutil.os.path.join(pad_len_dir, dir_name)):\n",
    "            file_idxes.append([pad_len, int(dir_name), int(file_name)])\n",
    "file_idxes = np.array(file_idxes)\n",
    "np.random.shuffle(file_idxes)\n",
    "\n",
    "\n",
    "# Save collected objects\n",
    "np.save(P_FILE_IDXES, file_idxes)\n",
    "utils.pickle_obj(label2idx, P_LABEL2IDX)\n",
    "utils.pickle_obj(label_counter, P_LABEL_COUNTER)\n",
    "utils.pickle_obj(tokenizer, P_TOKENIZER)\n",
    "\n",
    "end_time = time.time()\n",
    "print('Done at %g seconds' % (end_time - start_time))"
   ]
  },
  {
   "cell_type": "code",
   "execution_count": null,
   "metadata": {},
   "outputs": [],
   "source": []
  },
  {
   "cell_type": "code",
   "execution_count": null,
   "metadata": {},
   "outputs": [],
   "source": []
  },
  {
   "cell_type": "markdown",
   "metadata": {},
   "source": [
    "### many sentences"
   ]
  },
  {
   "cell_type": "code",
   "execution_count": 35,
   "metadata": {},
   "outputs": [
    {
     "name": "stdout",
     "output_type": "stream",
     "text": [
      "[nltk_data] Downloading package punkt to /Users/mzmeev/nltk_data...\n",
      "[nltk_data]   Package punkt is already up-to-date!\n"
     ]
    },
    {
     "data": {
      "text/plain": [
       "True"
      ]
     },
     "execution_count": 35,
     "metadata": {},
     "output_type": "execute_result"
    }
   ],
   "source": [
    "import nltk\n",
    "nltk.download('punkt')"
   ]
  },
  {
   "cell_type": "code",
   "execution_count": 36,
   "metadata": {},
   "outputs": [],
   "source": [
    "max_lens = np.zeros(len(filtered_texts), dtype='int32')\n",
    "for idx in range(len(filtered_texts)):\n",
    "    sentences = nltk.sent_tokenize(filtered_texts[idx])\n",
    "    max_lens[idx] = max(map(len, map(tokenizer.tokenize, sentences)))\n",
    "\n",
    "pad_max_lens = get_pad_lens(max_lens)\n",
    "unique_pad_max_lens = np.unique(pad_max_lens)\n",
    "pad_max_len2idx = {pad_max_len: np.zeros(np.sum(pad_max_lens==pad_max_len), 'int64')\n",
    "                   for pad_max_len in unique_pad_max_lens}\n",
    "for pad_max_len in unique_pad_max_lens:\n",
    "    pad_max_len2idx[pad_max_len] = np.arange(len(pad_max_lens))[pad_max_lens==pad_max_len]\n",
    "    np.random.shuffle(pad_max_len2idx[pad_max_len])\n",
    "pad_max_len2size = {pad_max_len: len(idxes) for pad_max_len, idxes in pad_max_len2idx.items()}"
   ]
  },
  {
   "cell_type": "code",
   "execution_count": 37,
   "metadata": {},
   "outputs": [
    {
     "data": {
      "text/plain": [
       "{5: 655, 6: 1463, 7: 1640, 8: 930, 9: 268, 11: 44}"
      ]
     },
     "execution_count": 37,
     "metadata": {},
     "output_type": "execute_result"
    }
   ],
   "source": [
    "pad_max_len2size"
   ]
  },
  {
   "cell_type": "code",
   "execution_count": 38,
   "metadata": {},
   "outputs": [],
   "source": [
    "import shutil"
   ]
  },
  {
   "cell_type": "code",
   "execution_count": 115,
   "metadata": {},
   "outputs": [],
   "source": [
    "N_SENT_AVG = 3\n",
    "\n",
    "\n",
    "def write_many_sent_batch(path, batch_x, batch_y):\n",
    "    with open(path, 'w') as fout:\n",
    "        for i, (text, label_list) in enumerate(zip(batch_x, batch_y)):\n",
    "            label_list = [label2idx[l] for l in label_list]\n",
    "            fout.write(labels_delimetr.join(map(str, label_list)) + '\\n')\n",
    "            for sent in nltk.sent_tokenize(text):\n",
    "                sent = tokenizer.tokenize(sent)\n",
    "                fout.write(' '.join(map(str, sent)) + '\\n')\n",
    "            if i + 1 != len(batch_x):\n",
    "                fout.write('\\n')\n",
    "\n",
    "\n",
    "def write_many_sent_idxes(path, idxes, texts, labels, batch_size):\n",
    "    for batch_idx, start_idx in tqdm_notebook(enumerate(range(0, len(idxes), batch_size)), desc='writing idxes'):\n",
    "        end_idx = min(start_idx + batch_size, len(idxes))\n",
    "        batch_x = [texts[idx] for idx in idxes[start_idx:end_idx]]\n",
    "        batch_y = [labels[idx] for idx in idxes[start_idx:end_idx]]\n",
    "        batch_path = shutil.os.path.join(path, str(batch_idx))\n",
    "        write_many_sent_batch(batch_path, batch_x, batch_y)\n",
    "\n",
    "\n",
    "def write_many_sent(path, pad_max_len2idx, texts,\n",
    "                    labels, words_in_batch):\n",
    "    if shutil.os.path.exists(path):\n",
    "        shutil.rmtree(path)\n",
    "    shutil.os.mkdir(path)\n",
    "    for pad_max_len, idxes in tqdm_notebook(pad_max_len2idx.items(), desc=''):\n",
    "        pad_max_len_path = shutil.os.path.join(path, str(pad_max_len))\n",
    "        shutil.os.mkdir(pad_max_len_path)\n",
    "        write_many_sent_idxes(pad_max_len_path, idxes, texts, labels,\n",
    "                              words_in_batch // (pad_max_len * N_SENT_AVG))\n",
    "\n"
   ]
  },
  {
   "cell_type": "code",
   "execution_count": 116,
   "metadata": {},
   "outputs": [],
   "source": [
    "filtered_labels = [l.split(labels_delimetr) for l in filtered_labels] \\\n",
    "if not isinstance(filtered_labels[0], list) else filtered_labels"
   ]
  },
  {
   "cell_type": "code",
   "execution_count": 117,
   "metadata": {
    "scrolled": false
   },
   "outputs": [
    {
     "data": {
      "application/vnd.jupyter.widget-view+json": {
       "model_id": "dbb2ad6bb6d448b0a6055a2d016babfc",
       "version_major": 2,
       "version_minor": 0
      },
      "text/plain": [
       "HBox(children=(IntProgress(value=0, max=6), HTML(value='')))"
      ]
     },
     "metadata": {},
     "output_type": "display_data"
    },
    {
     "data": {
      "application/vnd.jupyter.widget-view+json": {
       "model_id": "44361fa400154ce893dfbba2424fb2b4",
       "version_major": 2,
       "version_minor": 0
      },
      "text/plain": [
       "HBox(children=(IntProgress(value=1, bar_style='info', description='writing idxes', max=1), HTML(value='')))"
      ]
     },
     "metadata": {},
     "output_type": "display_data"
    },
    {
     "data": {
      "application/vnd.jupyter.widget-view+json": {
       "model_id": "d35f588019b541b68c19636a5f5c924a",
       "version_major": 2,
       "version_minor": 0
      },
      "text/plain": [
       "HBox(children=(IntProgress(value=1, bar_style='info', description='writing idxes', max=1), HTML(value='')))"
      ]
     },
     "metadata": {},
     "output_type": "display_data"
    },
    {
     "data": {
      "application/vnd.jupyter.widget-view+json": {
       "model_id": "f1e896aa07c14c0c99b835af9cfbfb3d",
       "version_major": 2,
       "version_minor": 0
      },
      "text/plain": [
       "HBox(children=(IntProgress(value=1, bar_style='info', description='writing idxes', max=1), HTML(value='')))"
      ]
     },
     "metadata": {},
     "output_type": "display_data"
    },
    {
     "data": {
      "application/vnd.jupyter.widget-view+json": {
       "model_id": "e935fa7e688646f0ba455935bd3248c7",
       "version_major": 2,
       "version_minor": 0
      },
      "text/plain": [
       "HBox(children=(IntProgress(value=1, bar_style='info', description='writing idxes', max=1), HTML(value='')))"
      ]
     },
     "metadata": {},
     "output_type": "display_data"
    },
    {
     "data": {
      "application/vnd.jupyter.widget-view+json": {
       "model_id": "19695ae863d2486ba9ab93233eefbffd",
       "version_major": 2,
       "version_minor": 0
      },
      "text/plain": [
       "HBox(children=(IntProgress(value=1, bar_style='info', description='writing idxes', max=1), HTML(value='')))"
      ]
     },
     "metadata": {},
     "output_type": "display_data"
    },
    {
     "data": {
      "application/vnd.jupyter.widget-view+json": {
       "model_id": "63d87b429f8f4c2d98fd62bde0593e01",
       "version_major": 2,
       "version_minor": 0
      },
      "text/plain": [
       "HBox(children=(IntProgress(value=1, bar_style='info', description='writing idxes', max=1), HTML(value='')))"
      ]
     },
     "metadata": {},
     "output_type": "display_data"
    },
    {
     "name": "stdout",
     "output_type": "stream",
     "text": [
      "\n"
     ]
    }
   ],
   "source": [
    "write_many_sent('many_sent', pad_max_len2idx, filtered_texts, filtered_labels, 75)"
   ]
  },
  {
   "cell_type": "code",
   "execution_count": 118,
   "metadata": {},
   "outputs": [],
   "source": [
    "paths = []\n",
    "def collect_batch_paths(path):\n",
    "    paths = []\n",
    "    for pad_max_len in unique_pad_max_lens:\n",
    "        for subpath in shutil.os.listdir(shutil.os.path.join(path, str(pad_max_len))):\n",
    "            paths.append(shutil.os.path.join(path, str(pad_max_len), subpath))\n",
    "    return paths\n",
    "paths = collect_batch_paths('many_sent/')"
   ]
  },
  {
   "cell_type": "code",
   "execution_count": 119,
   "metadata": {},
   "outputs": [
    {
     "name": "stdout",
     "output_type": "stream",
     "text": [
      "1517##40##592##641##37\r\n",
      "91 19 398 58 233 453\r\n",
      "1067 476 644 8 26 165 795\r\n",
      "34 34 237 119 530 227 2507 212 137 40\r\n",
      "210 261 35\r\n",
      "784 2645 161 41 2287\r\n",
      "\r\n",
      "321##62##12\r\n",
      "482 117 296 42 80 271 174\r\n",
      "9 1266 180 1021 495 32 12 1275 36 898\r\n",
      "320 23 26 55\r\n",
      "184 8 711 21\r\n"
     ]
    }
   ],
   "source": [
    "! cat many_sent/11/0"
   ]
  },
  {
   "cell_type": "code",
   "execution_count": 123,
   "metadata": {},
   "outputs": [],
   "source": [
    "def read_batch(path):\n",
    "    batch_x, batch_y = [], []\n",
    "    with open(path, 'r') as f:\n",
    "        line = f.readline().replace('\\n', '')\n",
    "        while line != '':\n",
    "            lbls = list(map(int, line.split(labels_delimetr)))\n",
    "            sentences = []\n",
    "            line = f.readline().replace('\\n', '')\n",
    "            while line != '':\n",
    "                sentences.append(list(map(int, line.split())))\n",
    "                line = f.readline().replace('\\n', '')\n",
    "            line = f.readline().replace('\\n', '')\n",
    "            batch_x.append(sentences)\n",
    "            batch_y.append(lbls)\n",
    "    return batch_x, batch_y\n",
    "\n",
    "\n",
    "def read_batches(paths):\n",
    "    for path in paths:\n",
    "        yield read_batch(path)"
   ]
  },
  {
   "cell_type": "code",
   "execution_count": 125,
   "metadata": {},
   "outputs": [
    {
     "name": "stdout",
     "output_type": "stream",
     "text": [
      "5\n",
      "5\n"
     ]
    }
   ],
   "source": [
    "for bx, by in read_batches(paths):\n",
    "    print(len(bx))\n",
    "    print(len(by))\n",
    "    break"
   ]
  },
  {
   "cell_type": "code",
   "execution_count": null,
   "metadata": {},
   "outputs": [],
   "source": []
  },
  {
   "cell_type": "code",
   "execution_count": null,
   "metadata": {},
   "outputs": [],
   "source": []
  },
  {
   "cell_type": "code",
   "execution_count": 11,
   "metadata": {},
   "outputs": [
    {
     "data": {
      "application/vnd.jupyter.widget-view+json": {
       "model_id": "7586b9d80c2a43d0851c3238024b9538",
       "version_major": 2,
       "version_minor": 0
      },
      "text/plain": [
       "HBox(children=(IntProgress(value=1, bar_style='info', description='read vectors', max=1), HTML(value='')))"
      ]
     },
     "metadata": {},
     "output_type": "display_data"
    },
    {
     "name": "stdout",
     "output_type": "stream",
     "text": [
      "\n"
     ]
    },
    {
     "data": {
      "application/vnd.jupyter.widget-view+json": {
       "model_id": "235efe5f76eb43ff9da206a8ffaf4010",
       "version_major": 2,
       "version_minor": 0
      },
      "text/plain": [
       "HBox(children=(IntProgress(value=0, description='looking for words to remove', max=5439), HTML(value='')))"
      ]
     },
     "metadata": {},
     "output_type": "display_data"
    },
    {
     "name": "stdout",
     "output_type": "stream",
     "text": [
      "\n"
     ]
    },
    {
     "data": {
      "application/vnd.jupyter.widget-view+json": {
       "model_id": "131aadb080614216ba78d00c94055629",
       "version_major": 2,
       "version_minor": 0
      },
      "text/plain": [
       "HBox(children=(IntProgress(value=0, description='removing words', max=2327), HTML(value='')))"
      ]
     },
     "metadata": {},
     "output_type": "display_data"
    },
    {
     "name": "stdout",
     "output_type": "stream",
     "text": [
      "\n"
     ]
    }
   ],
   "source": [
    "word2vec = {}\n",
    "with open(p_word_vectors, 'r') as fwv:\n",
    "    for line in tqdm_notebook(fwv, desc='read vectors'):\n",
    "        word, vec = line.strip().split('\\t')\n",
    "        word2vec[word] = vec\n",
    "words2remove = set()\n",
    "for word in tqdm_notebook(tokenizer.word_count, desc='looking for words to remove'):\n",
    "    if word not in word2vec:\n",
    "        words2remove.add(word)\n",
    "for word in tqdm_notebook(words2remove, desc='removing words'):\n",
    "    tokenizer.word2idx.pop(word)\n",
    "    tokenizer.word_count.pop(word)"
   ]
  },
  {
   "cell_type": "code",
   "execution_count": null,
   "metadata": {},
   "outputs": [],
   "source": []
  }
 ],
 "metadata": {
  "kernelspec": {
   "display_name": "Python 3",
   "language": "python",
   "name": "python3"
  },
  "language_info": {
   "codemirror_mode": {
    "name": "ipython",
    "version": 3
   },
   "file_extension": ".py",
   "mimetype": "text/x-python",
   "name": "python",
   "nbconvert_exporter": "python",
   "pygments_lexer": "ipython3",
   "version": "3.6.5"
  }
 },
 "nbformat": 4,
 "nbformat_minor": 2
}
