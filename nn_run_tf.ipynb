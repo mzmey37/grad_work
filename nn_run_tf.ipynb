{
 "cells": [
  {
   "cell_type": "code",
   "execution_count": 1,
   "metadata": {},
   "outputs": [],
   "source": [
    "%load_ext autoreload\n",
    "%autoreload 2\n",
    "import numpy as np\n",
    "import pickle\n",
    "from utils import generator, read_batch\n",
    "from tqdm import tqdm_notebook\n",
    "import matplotlib.pyplot as plt\n",
    "%matplotlib inline"
   ]
  },
  {
   "cell_type": "code",
   "execution_count": 2,
   "metadata": {},
   "outputs": [],
   "source": [
    "p_file_idxes = 'data/file_idxes.npy'\n",
    "p_tokenizer = 'data/tokenizer.pickle'\n",
    "p_label2idx = 'data/label2idx.pickle'\n",
    "p_label_counter = 'data/label_counter'\n",
    "p_word_vectors = './data/word_vectors.npy'\n",
    "data_path = './data'"
   ]
  },
  {
   "cell_type": "code",
   "execution_count": 3,
   "metadata": {},
   "outputs": [],
   "source": [
    "EMBEDDING_DIM = 200"
   ]
  },
  {
   "cell_type": "markdown",
   "metadata": {},
   "source": [
    "    Read needed for reading variables"
   ]
  },
  {
   "cell_type": "code",
   "execution_count": 4,
   "metadata": {},
   "outputs": [],
   "source": [
    "file_idxes = np.load(p_file_idxes)\n",
    "word_vectors = np.load(p_word_vectors)\n",
    "with open(p_label2idx, 'rb') as f:\n",
    "    label2idx = pickle.load(f)\n",
    "with open(p_label_counter, 'rb') as f:\n",
    "    label_counter = pickle.load(f)\n",
    "with open(p_tokenizer, 'rb') as f:\n",
    "    tokenizer = pickle.load(f)"
   ]
  },
  {
   "cell_type": "code",
   "execution_count": 5,
   "metadata": {},
   "outputs": [
    {
     "name": "stdout",
     "output_type": "stream",
     "text": [
      "[[ 120  313]\n",
      " [   0  394]\n",
      " [   0  529]\n",
      " [   0 1275]] [[0 0 0 ... 0 0 0]\n",
      " [0 0 0 ... 0 0 0]\n",
      " [0 0 0 ... 0 0 0]\n",
      " [0 0 0 ... 0 0 0]]\n",
      "[[293]\n",
      " [626]\n",
      " [109]] [[0 0 0 ... 0 0 0]\n",
      " [0 0 0 ... 0 0 0]\n",
      " [0 0 0 ... 0 0 0]]\n"
     ]
    }
   ],
   "source": [
    "for i, (seq, lab) in enumerate(generator(file_idxes, data_path, label2idx)):\n",
    "    print(seq, lab)\n",
    "    if i > 0:\n",
    "        break"
   ]
  },
  {
   "cell_type": "markdown",
   "metadata": {},
   "source": [
    "    Make nn architechture"
   ]
  },
  {
   "cell_type": "code",
   "execution_count": 7,
   "metadata": {},
   "outputs": [],
   "source": [
    "import tensorflow as tf"
   ]
  },
  {
   "cell_type": "code",
   "execution_count": 8,
   "metadata": {},
   "outputs": [],
   "source": [
    "def gen():\n",
    "    for seq, lab in generator(file_idxes, data_path, label2idx):\n",
    "        seq = word_vectors[seq]\n",
    "        yield seq, lab"
   ]
  },
  {
   "cell_type": "code",
   "execution_count": 9,
   "metadata": {},
   "outputs": [],
   "source": [
    "N_FILTERS = 100"
   ]
  },
  {
   "cell_type": "code",
   "execution_count": 10,
   "metadata": {},
   "outputs": [],
   "source": [
    "def init_variable(shape, name):\n",
    "    return tf.Variable(tf.initializers.variance_scaling()(shape, tf.float32), name=name)\n",
    "\n",
    "tf.reset_default_graph()\n",
    "dataset = tf.data.Dataset.from_generator(\n",
    "    lambda: generator(file_idxes, data_path, label2idx),\n",
    "    (tf.int32, tf.float32),\n",
    "    ((None, None), (None, len(label2idx))))\n",
    "training = tf.placeholder(tf.bool, shape=[])\n",
    "it = dataset.make_one_shot_iterator()\n",
    "embeddings = tf.Variable(word_vectors, trainable=False, dtype=tf.float32)\n",
    "seqs, labels = it.get_next()\n",
    "seqs = tf.nn.embedding_lookup(embeddings, seqs)\n",
    "\n",
    "conv_weights = init_variable([4, 200, N_FILTERS], 'conv_weights')\n",
    "seqs = tf.nn.conv1d(seqs, conv_weights, 1, 'SAME')\n",
    "x = tf.reduce_max(seqs, axis=1)\n",
    "x = tf.layers.batch_normalization(x, training=training)\n",
    "logits = tf.layers.dense(x, len(label2idx), kernel_initializer=tf.initializers.variance_scaling())\n",
    "loss = tf.reduce_mean(tf.nn.sigmoid_cross_entropy_with_logits(labels=labels, logits=logits))\n",
    "\n",
    "train_step = tf.train.AdamOptimizer().minimize(loss)\n"
   ]
  },
  {
   "cell_type": "code",
   "execution_count": 11,
   "metadata": {},
   "outputs": [],
   "source": [
    "with tf.Session() as sess:\n",
    "    sess.run(tf.global_variables_initializer())\n",
    "    for i in range(100):\n",
    "        sess.run(train_step, feed_dict={training:True})"
   ]
  },
  {
   "cell_type": "code",
   "execution_count": null,
   "metadata": {},
   "outputs": [],
   "source": []
  },
  {
   "cell_type": "markdown",
   "metadata": {},
   "source": [
    "    Check batch_normalization"
   ]
  },
  {
   "cell_type": "code",
   "execution_count": 12,
   "metadata": {
    "collapsed": true
   },
   "outputs": [
    {
     "name": "stdout",
     "output_type": "stream",
     "text": [
      "WARNING:tensorflow:From <ipython-input-12-6441638eb0cd>:1: load_dataset (from tensorflow.contrib.learn.python.learn.datasets) is deprecated and will be removed in a future version.\n",
      "Instructions for updating:\n",
      "Please use tf.data.\n",
      "WARNING:tensorflow:From /Users/mzmeev/miniconda3/envs/pytorch/lib/python3.6/site-packages/tensorflow/contrib/learn/python/learn/datasets/__init__.py:80: load_mnist (from tensorflow.contrib.learn.python.learn.datasets.mnist) is deprecated and will be removed in a future version.\n",
      "Instructions for updating:\n",
      "Please use alternatives such as official/mnist/dataset.py from tensorflow/models.\n",
      "WARNING:tensorflow:From /Users/mzmeev/miniconda3/envs/pytorch/lib/python3.6/site-packages/tensorflow/contrib/learn/python/learn/datasets/mnist.py:300: read_data_sets (from tensorflow.contrib.learn.python.learn.datasets.mnist) is deprecated and will be removed in a future version.\n",
      "Instructions for updating:\n",
      "Please use alternatives such as official/mnist/dataset.py from tensorflow/models.\n",
      "WARNING:tensorflow:From /Users/mzmeev/miniconda3/envs/pytorch/lib/python3.6/site-packages/tensorflow/contrib/learn/python/learn/datasets/mnist.py:260: maybe_download (from tensorflow.contrib.learn.python.learn.datasets.base) is deprecated and will be removed in a future version.\n",
      "Instructions for updating:\n",
      "Please write your own downloading logic.\n",
      "WARNING:tensorflow:From /Users/mzmeev/miniconda3/envs/pytorch/lib/python3.6/site-packages/tensorflow/contrib/learn/python/learn/datasets/base.py:252: _internal_retry.<locals>.wrap.<locals>.wrapped_fn (from tensorflow.contrib.learn.python.learn.datasets.base) is deprecated and will be removed in a future version.\n",
      "Instructions for updating:\n",
      "Please use urllib or similar directly.\n",
      "Successfully downloaded train-images-idx3-ubyte.gz 9912422 bytes.\n",
      "WARNING:tensorflow:From /Users/mzmeev/miniconda3/envs/pytorch/lib/python3.6/site-packages/tensorflow/contrib/learn/python/learn/datasets/mnist.py:262: extract_images (from tensorflow.contrib.learn.python.learn.datasets.mnist) is deprecated and will be removed in a future version.\n",
      "Instructions for updating:\n",
      "Please use tf.data to implement this functionality.\n",
      "Extracting MNIST-data/train-images-idx3-ubyte.gz\n",
      "Successfully downloaded train-labels-idx1-ubyte.gz 28881 bytes.\n",
      "WARNING:tensorflow:From /Users/mzmeev/miniconda3/envs/pytorch/lib/python3.6/site-packages/tensorflow/contrib/learn/python/learn/datasets/mnist.py:267: extract_labels (from tensorflow.contrib.learn.python.learn.datasets.mnist) is deprecated and will be removed in a future version.\n",
      "Instructions for updating:\n",
      "Please use tf.data to implement this functionality.\n",
      "Extracting MNIST-data/train-labels-idx1-ubyte.gz\n",
      "Successfully downloaded t10k-images-idx3-ubyte.gz 1648877 bytes.\n",
      "Extracting MNIST-data/t10k-images-idx3-ubyte.gz\n",
      "Successfully downloaded t10k-labels-idx1-ubyte.gz 4542 bytes.\n",
      "Extracting MNIST-data/t10k-labels-idx1-ubyte.gz\n",
      "WARNING:tensorflow:From /Users/mzmeev/miniconda3/envs/pytorch/lib/python3.6/site-packages/tensorflow/contrib/learn/python/learn/datasets/mnist.py:290: DataSet.__init__ (from tensorflow.contrib.learn.python.learn.datasets.mnist) is deprecated and will be removed in a future version.\n",
      "Instructions for updating:\n",
      "Please use alternatives such as official/mnist/dataset.py from tensorflow/models.\n"
     ]
    }
   ],
   "source": [
    "mnist = tf.contrib.learn.datasets.load_dataset(\"mnist\")\n",
    "train_data = mnist.train.images # Returns np.array\n",
    "train_labels = np.asarray(mnist.train.labels, dtype=np.int32)\n",
    "eval_data = mnist.test.images # Returns np.array\n",
    "eval_labels = np.asarray(mnist.test.labels, dtype=np.int32)\n"
   ]
  },
  {
   "cell_type": "code",
   "execution_count": 13,
   "metadata": {},
   "outputs": [],
   "source": [
    "!mkdir models\n",
    "model_path = './models/model1'"
   ]
  },
  {
   "cell_type": "code",
   "execution_count": 14,
   "metadata": {},
   "outputs": [],
   "source": [
    "def batch_gen(data, labels, batch_size):\n",
    "    while True:\n",
    "        idxes = np.arange(len(data))\n",
    "        np.random.shuffle(idxes)\n",
    "        for start_idx in range(0, len(data), batch_size):\n",
    "            end_idx = min(start_idx + batch_size, len(data))\n",
    "            yield data[start_idx : end_idx], labels[start_idx : end_idx]"
   ]
  },
  {
   "cell_type": "code",
   "execution_count": 15,
   "metadata": {},
   "outputs": [],
   "source": [
    "tg = batch_gen(train_data, train_labels, 32)"
   ]
  },
  {
   "cell_type": "code",
   "execution_count": 16,
   "metadata": {
    "scrolled": true
   },
   "outputs": [
    {
     "data": {
      "text/plain": [
       "(32,)"
      ]
     },
     "execution_count": 16,
     "metadata": {},
     "output_type": "execute_result"
    }
   ],
   "source": [
    "next(tg)[1].shape"
   ]
  },
  {
   "cell_type": "code",
   "execution_count": 18,
   "metadata": {},
   "outputs": [],
   "source": [
    "tf.reset_default_graph()\n",
    "image = tf.placeholder(tf.float32, [None, 784])\n",
    "labels = tf.placeholder(tf.int64, [None])\n",
    "training = tf.placeholder(tf.bool, [])\n",
    "\n",
    "with tf.name_scope('batch_normed'):\n",
    "    x_bn = tf.layers.dense(image, 100, activation=tf.nn.relu, use_bias=True)\n",
    "    x_bn = tf.layers.dense(x_bn, 100, activation=tf.nn.relu, use_bias=False)\n",
    "    x_bn = tf.layers.batch_normalization(x_bn, training=training)\n",
    "    logits_bn = tf.layers.dense(x_bn, 10)\n",
    "    loss_bn = tf.reduce_mean(tf.nn.sparse_softmax_cross_entropy_with_logits(labels=labels, logits=logits_bn))\n",
    "    accuracy_bn = tf.reduce_mean(tf.cast(tf.equal(labels, tf.argmax(logits_bn, axis=1)), tf.float32))\n",
    "    \n",
    "    update_ops = tf.get_collection(tf.GraphKeys.UPDATE_OPS)\n",
    "    with tf.control_dependencies(update_ops):\n",
    "        train_op_bn = tf.train.AdamOptimizer(1e-2).minimize(loss_bn)\n",
    "        \n",
    "with tf.name_scope('not_normed'):\n",
    "    x_nbn = tf.layers.dense(image, 100, activation=tf.nn.relu, use_bias=True)\n",
    "    x_nbn = tf.layers.dense(x_nbn, 100, activation=tf.nn.relu, use_bias=True)\n",
    "    logits_nbn = tf.layers.dense(x_nbn, 10)\n",
    "    loss_nbn = tf.reduce_mean(tf.nn.sparse_softmax_cross_entropy_with_logits(labels=labels, logits=logits_nbn))\n",
    "    accuracy_nbn = tf.reduce_mean(tf.cast(tf.equal(labels, tf.argmax(logits_nbn, axis=1)), tf.float32))\n",
    "    \n",
    "    train_op_nbn = tf.train.AdamOptimizer(1e-2).minimize(loss_nbn)\n"
   ]
  },
  {
   "cell_type": "code",
   "execution_count": 19,
   "metadata": {},
   "outputs": [],
   "source": [
    "saver = tf.train.Saver(max_to_keep=2)"
   ]
  },
  {
   "cell_type": "code",
   "execution_count": 23,
   "metadata": {},
   "outputs": [
    {
     "data": {
      "application/vnd.jupyter.widget-view+json": {
       "model_id": "936860c760624663a7c3f3ca368acc2c",
       "version_major": 2,
       "version_minor": 0
      },
      "text/plain": [
       "HBox(children=(IntProgress(value=0, max=10000), HTML(value='')))"
      ]
     },
     "metadata": {},
     "output_type": "display_data"
    },
    {
     "name": "stdout",
     "output_type": "stream",
     "text": [
      "\n"
     ]
    }
   ],
   "source": [
    "tn_losses_bn = []\n",
    "eval_losses_bn = []\n",
    "tn_losses_nbn = []\n",
    "eval_losses_nbn = []\n",
    "\n",
    "tn_accs_bn = []\n",
    "eval_accs_bn = []\n",
    "tn_accs_nbn = []\n",
    "eval_accs_nbn = []\n",
    "\n",
    "fake_eval_accs_bn = []\n",
    "fake_eval_losses_bn = []\n",
    "fake_eval_accs_nbn = []\n",
    "fake_eval_losses_nbn = []\n",
    "\n",
    "train_gen = batch_gen(train_data, train_labels, 60)\n",
    "eval_gen = batch_gen(eval_data, eval_labels, 100)\n",
    "\n",
    "with tf.Session() as sess:\n",
    "    sess.run(tf.global_variables_initializer())\n",
    "\n",
    "    for i in tqdm_notebook(range(1, 10001)):\n",
    "        batch_x, batch_y = next(train_gen)\n",
    "        _, _, lbn, lnbn, abn, anbn = sess.run(\n",
    "            [train_op_bn, train_op_nbn, loss_bn, loss_nbn, accuracy_bn, accuracy_nbn],\n",
    "            feed_dict={\n",
    "                image: batch_x,\n",
    "                labels: batch_y,\n",
    "                training: True\n",
    "            }\n",
    "        )\n",
    "        tn_losses_bn.append(lbn)\n",
    "        tn_losses_nbn.append(lnbn)\n",
    "        tn_accs_bn.append(abn)\n",
    "        tn_accs_nbn.append(anbn)\n",
    "        \n",
    "        if i % 500 == 0:\n",
    "            saver.save(sess, model_path)\n",
    "            \n",
    "            full_loss_bn, full_right_bn = 0, 0\n",
    "            full_loss_nbn, full_right_nbn = 0, 0\n",
    "            fake_full_loss_bn, fake_full_right_bn = 0, 0\n",
    "            \n",
    "            for _ in range(100):\n",
    "                batch_x, batch_y = next(eval_gen)\n",
    "                lbn, lnbn, abn, anbn = sess.run([loss_bn, loss_nbn, accuracy_bn, accuracy_nbn], feed_dict={\n",
    "                    image: batch_x,\n",
    "                    labels: batch_y,\n",
    "                    training: False\n",
    "                })\n",
    "                \n",
    "                full_loss_bn += lbn\n",
    "                full_right_bn += 100 * abn\n",
    "                \n",
    "                full_loss_nbn += lnbn\n",
    "                full_right_nbn += 100 * anbn\n",
    "                \n",
    "                lbn, abn = sess.run([loss_bn, accuracy_bn], feed_dict={\n",
    "                    image: batch_x,\n",
    "                    labels: batch_y,\n",
    "                    training: True\n",
    "                })\n",
    "                \n",
    "                fake_full_loss_bn += lbn\n",
    "                fake_full_right_bn += 100 * abn\n",
    "                \n",
    "            eval_losses_bn.append(full_loss_bn / 100)\n",
    "            eval_losses_nbn.append(full_loss_nbn / 100)\n",
    "            eval_accs_bn.append(full_right_bn / 10000)\n",
    "            eval_accs_nbn.append(full_right_nbn / 10000)\n",
    "            \n",
    "            fake_eval_accs_bn.append(fake_full_loss_bn / 100)\n",
    "            fake_eval_losses_bn.append(fake_full_right_bn / 10000)"
   ]
  },
  {
   "cell_type": "code",
   "execution_count": 24,
   "metadata": {
    "scrolled": false
   },
   "outputs": [
    {
     "data": {
      "text/plain": [
       "<matplotlib.legend.Legend at 0x11614bac8>"
      ]
     },
     "execution_count": 24,
     "metadata": {},
     "output_type": "execute_result"
    },
    {
     "data": {
      "image/png": "[encoded data removed]",
      "text/plain": [
       "<Figure size 864x1872 with 4 Axes>"
      ]
     },
     "metadata": {},
     "output_type": "display_data"
    }
   ],
   "source": [
    "fig, axes = plt.subplots(4, figsize=[12, 26])\n",
    "\n",
    "axes[0].set_title('train loss')\n",
    "axes[0].plot(tn_losses_nbn, c='b')\n",
    "axes[0].plot(tn_losses_bn, c='g')\n",
    "\n",
    "axes[1].set_title('eval loss')\n",
    "axes[1].plot(eval_losses_nbn, c='b', label='not normed')\n",
    "axes[1].plot(eval_losses_bn, c='g', label='normed')\n",
    "axes[1].plot(fake_eval_losses_bn, c='r', label='normed badly')\n",
    "axes[1].legend()\n",
    "\n",
    "axes[2].set_title('train accuracy')\n",
    "axes[2].plot(tn_accs_nbn, c='b')\n",
    "axes[2].plot(tn_accs_bn, c='g')\n",
    "\n",
    "axes[3].set_title('eval accuracy')\n",
    "axes[3].plot(eval_accs_nbn, c='b', label='not normed')\n",
    "axes[3].plot(eval_accs_bn, c='g', label='normed')\n",
    "# axes[3].plot(fake_eval_accs_bn, c='r', label='normed badly')\n",
    "axes[3].legend()\n"
   ]
  },
  {
   "cell_type": "markdown",
   "metadata": {},
   "source": [
    "    Check model saving and restoring"
   ]
  },
  {
   "cell_type": "code",
   "execution_count": 25,
   "metadata": {},
   "outputs": [],
   "source": [
    "! rm models/*"
   ]
  },
  {
   "cell_type": "code",
   "execution_count": 26,
   "metadata": {},
   "outputs": [],
   "source": [
    "tf.reset_default_graph()\n",
    "p = tf.placeholder(tf.float32, shape=[], name='p')\n",
    "var_a = tf.Variable(0, dtype=tf.float32, name='a')\n",
    "var_b = tf.Variable(1, dtype=tf.float32, name='b')\n",
    "var_a = tf.assign(var_a, var_a + var_b)\n",
    "var_c = tf.add(p, var_b, name='c')\n",
    "saver = tf.train.Saver(max_to_keep=3)"
   ]
  },
  {
   "cell_type": "code",
   "execution_count": 27,
   "metadata": {},
   "outputs": [],
   "source": [
    "test_model_path = 'models/test_model'"
   ]
  },
  {
   "cell_type": "code",
   "execution_count": 28,
   "metadata": {},
   "outputs": [
    {
     "name": "stdout",
     "output_type": "stream",
     "text": [
      "[1.0, 2.0]\n",
      "models/test_model-0\n",
      "[2.0, 2.0]\n",
      "models/test_model-1\n",
      "[3.0, 2.0]\n",
      "models/test_model-2\n",
      "[4.0, 2.0]\n",
      "models/test_model-3\n",
      "[5.0, 2.0]\n",
      "models/test_model-4\n",
      "[6.0, 2.0]\n",
      "models/test_model-5\n",
      "[7.0, 2.0]\n",
      "models/test_model-6\n",
      "[8.0, 2.0]\n",
      "models/test_model-7\n",
      "[9.0, 2.0]\n",
      "models/test_model-8\n",
      "[10.0, 2.0]\n",
      "models/test_model-9\n"
     ]
    }
   ],
   "source": [
    "with tf.Session() as sess:\n",
    "    sess.run(tf.global_variables_initializer())\n",
    "    for i in range(10):\n",
    "        print(sess.run([var_a, var_c], feed_dict={p:1}))\n",
    "        print(saver.save(sess, test_model_path, write_meta_graph=True, global_step=i))"
   ]
  },
  {
   "cell_type": "code",
   "execution_count": 29,
   "metadata": {},
   "outputs": [
    {
     "name": "stdout",
     "output_type": "stream",
     "text": [
      "total 80\r\n",
      "-rw-r--r--  1 mzmeev  staff   167B May 17 13:21 checkpoint\r\n",
      "-rw-r--r--  1 mzmeev  staff     8B May 17 13:21 test_model-7.data-00000-of-00001\r\n",
      "-rw-r--r--  1 mzmeev  staff   134B May 17 13:21 test_model-7.index\r\n",
      "-rw-r--r--  1 mzmeev  staff   3.4K May 17 13:21 test_model-7.meta\r\n",
      "-rw-r--r--  1 mzmeev  staff     8B May 17 13:21 test_model-8.data-00000-of-00001\r\n",
      "-rw-r--r--  1 mzmeev  staff   134B May 17 13:21 test_model-8.index\r\n",
      "-rw-r--r--  1 mzmeev  staff   3.4K May 17 13:21 test_model-8.meta\r\n",
      "-rw-r--r--  1 mzmeev  staff     8B May 17 13:21 test_model-9.data-00000-of-00001\r\n",
      "-rw-r--r--  1 mzmeev  staff   134B May 17 13:21 test_model-9.index\r\n",
      "-rw-r--r--  1 mzmeev  staff   3.4K May 17 13:21 test_model-9.meta\r\n"
     ]
    }
   ],
   "source": [
    "! ls -lh models/"
   ]
  },
  {
   "cell_type": "code",
   "execution_count": 30,
   "metadata": {},
   "outputs": [
    {
     "name": "stdout",
     "output_type": "stream",
     "text": [
      "INFO:tensorflow:Restoring parameters from models/test_model-9\n",
      "[4.0, 10.0]\n",
      "INFO:tensorflow:Restoring parameters from models/test_model-7\n",
      "[4.0, 8.0]\n"
     ]
    }
   ],
   "source": [
    "tf.reset_default_graph()\n",
    "sess = tf.Session()\n",
    "loader = tf.train.import_meta_graph(test_model_path + '-9.meta')\n",
    "loader.restore(sess, test_model_path + '-9')\n",
    "graph = tf.get_default_graph()\n",
    "graph.get_all_collection_keys()\n",
    "graph.get_collection('variables')\n",
    "\n",
    "print([\n",
    "    sess.run(graph.get_tensor_by_name('c:0'), {graph.get_tensor_by_name('p:0'): 3}),\n",
    "    sess.run(graph.get_tensor_by_name('a:0'))\n",
    "])\n",
    "loader.restore(sess, test_model_path + '-7')\n",
    "print([\n",
    "    sess.run(graph.get_tensor_by_name('c:0'), {graph.get_tensor_by_name('p:0'): 3}),\n",
    "    sess.run(graph.get_tensor_by_name('a:0'))\n",
    "])\n",
    "sess.close()"
   ]
  },
  {
   "cell_type": "code",
   "execution_count": null,
   "metadata": {},
   "outputs": [],
   "source": []
  },
  {
   "cell_type": "code",
   "execution_count": null,
   "metadata": {},
   "outputs": [],
   "source": []
  },
  {
   "cell_type": "code",
   "execution_count": 31,
   "metadata": {},
   "outputs": [],
   "source": [
    "import json"
   ]
  },
  {
   "cell_type": "code",
   "execution_count": 32,
   "metadata": {},
   "outputs": [
    {
     "ename": "FileNotFoundError",
     "evalue": "[Errno 2] No such file or directory: '../Downloads/Task6a-Batch1-Week1_raw.json'",
     "output_type": "error",
     "traceback": [
      "\u001b[0;31m---------------------------------------------------------------------------\u001b[0m",
      "\u001b[0;31mFileNotFoundError\u001b[0m                         Traceback (most recent call last)",
      "\u001b[0;32m<ipython-input-32-232e7e6c3a3c>\u001b[0m in \u001b[0;36m<module>\u001b[0;34m()\u001b[0m\n\u001b[0;32m----> 1\u001b[0;31m \u001b[0;32mwith\u001b[0m \u001b[0mopen\u001b[0m\u001b[0;34m(\u001b[0m\u001b[0;34m'../Downloads/Task6a-Batch1-Week1_raw.json'\u001b[0m\u001b[0;34m,\u001b[0m \u001b[0;34m'r'\u001b[0m\u001b[0;34m)\u001b[0m \u001b[0;32mas\u001b[0m \u001b[0mf\u001b[0m\u001b[0;34m:\u001b[0m\u001b[0;34m\u001b[0m\u001b[0m\n\u001b[0m\u001b[1;32m      2\u001b[0m     \u001b[0mfile\u001b[0m \u001b[0;34m=\u001b[0m \u001b[0mjson\u001b[0m\u001b[0;34m.\u001b[0m\u001b[0mload\u001b[0m\u001b[0;34m(\u001b[0m\u001b[0mf\u001b[0m\u001b[0;34m)\u001b[0m\u001b[0;34m\u001b[0m\u001b[0m\n",
      "\u001b[0;31mFileNotFoundError\u001b[0m: [Errno 2] No such file or directory: '../Downloads/Task6a-Batch1-Week1_raw.json'"
     ]
    }
   ],
   "source": [
    "with open('../Downloads/Task6a-Batch1-Week1_raw.json', 'r') as f:\n",
    "    file = json.load(f)"
   ]
  },
  {
   "cell_type": "code",
   "execution_count": 33,
   "metadata": {},
   "outputs": [
    {
     "ename": "NameError",
     "evalue": "name 'file' is not defined",
     "output_type": "error",
     "traceback": [
      "\u001b[0;31m---------------------------------------------------------------------------\u001b[0m",
      "\u001b[0;31mNameError\u001b[0m                                 Traceback (most recent call last)",
      "\u001b[0;32m<ipython-input-33-77d8dec3f7da>\u001b[0m in \u001b[0;36m<module>\u001b[0;34m()\u001b[0m\n\u001b[0;32m----> 1\u001b[0;31m \u001b[0mlen\u001b[0m\u001b[0;34m(\u001b[0m\u001b[0mfile\u001b[0m\u001b[0;34m[\u001b[0m\u001b[0;34m'documents'\u001b[0m\u001b[0;34m]\u001b[0m\u001b[0;34m)\u001b[0m\u001b[0;34m\u001b[0m\u001b[0m\n\u001b[0m",
      "\u001b[0;31mNameError\u001b[0m: name 'file' is not defined"
     ]
    }
   ],
   "source": [
    "len(file['documents'])"
   ]
  },
  {
   "cell_type": "code",
   "execution_count": 34,
   "metadata": {},
   "outputs": [
    {
     "ename": "NameError",
     "evalue": "name 'file' is not defined",
     "output_type": "error",
     "traceback": [
      "\u001b[0;31m---------------------------------------------------------------------------\u001b[0m",
      "\u001b[0;31mNameError\u001b[0m                                 Traceback (most recent call last)",
      "\u001b[0;32m<ipython-input-34-7962a153b03d>\u001b[0m in \u001b[0;36m<module>\u001b[0;34m()\u001b[0m\n\u001b[0;32m----> 1\u001b[0;31m \u001b[0mt\u001b[0m \u001b[0;34m=\u001b[0m \u001b[0mfile\u001b[0m\u001b[0;34m[\u001b[0m\u001b[0;34m'documents'\u001b[0m\u001b[0;34m]\u001b[0m\u001b[0;34m[\u001b[0m\u001b[0;36m0\u001b[0m\u001b[0;34m]\u001b[0m\u001b[0;34m[\u001b[0m\u001b[0;34m'title'\u001b[0m\u001b[0;34m]\u001b[0m \u001b[0;34m+\u001b[0m \u001b[0mfile\u001b[0m\u001b[0;34m[\u001b[0m\u001b[0;34m'documents'\u001b[0m\u001b[0;34m]\u001b[0m\u001b[0;34m[\u001b[0m\u001b[0;36m0\u001b[0m\u001b[0;34m]\u001b[0m\u001b[0;34m[\u001b[0m\u001b[0;34m'abstractText'\u001b[0m\u001b[0;34m]\u001b[0m\u001b[0;34m\u001b[0m\u001b[0m\n\u001b[0m",
      "\u001b[0;31mNameError\u001b[0m: name 'file' is not defined"
     ]
    }
   ],
   "source": [
    "t = file['documents'][0]['title'] + file['documents'][0]['abstractText']"
   ]
  },
  {
   "cell_type": "code",
   "execution_count": 35,
   "metadata": {},
   "outputs": [
    {
     "ename": "NameError",
     "evalue": "name 't' is not defined",
     "output_type": "error",
     "traceback": [
      "\u001b[0;31m---------------------------------------------------------------------------\u001b[0m",
      "\u001b[0;31mNameError\u001b[0m                                 Traceback (most recent call last)",
      "\u001b[0;32m<ipython-input-35-4c51f1d9afa6>\u001b[0m in \u001b[0;36m<module>\u001b[0;34m()\u001b[0m\n\u001b[0;32m----> 1\u001b[0;31m \u001b[0mword_vectors\u001b[0m\u001b[0;34m[\u001b[0m\u001b[0mnp\u001b[0m\u001b[0;34m.\u001b[0m\u001b[0marray\u001b[0m\u001b[0;34m(\u001b[0m\u001b[0mtokenizer\u001b[0m\u001b[0;34m.\u001b[0m\u001b[0mtokenize\u001b[0m\u001b[0;34m(\u001b[0m\u001b[0mt\u001b[0m\u001b[0;34m)\u001b[0m\u001b[0;34m)\u001b[0m\u001b[0;34m]\u001b[0m\u001b[0;34m\u001b[0m\u001b[0m\n\u001b[0m",
      "\u001b[0;31mNameError\u001b[0m: name 't' is not defined"
     ]
    }
   ],
   "source": [
    "word_vectors[np.array(tokenizer.tokenize(t))]"
   ]
  },
  {
   "cell_type": "code",
   "execution_count": null,
   "metadata": {},
   "outputs": [],
   "source": []
  },
  {
   "cell_type": "code",
   "execution_count": null,
   "metadata": {},
   "outputs": [],
   "source": []
  },
  {
   "cell_type": "code",
   "execution_count": null,
   "metadata": {},
   "outputs": [],
   "source": []
  },
  {
   "cell_type": "code",
   "execution_count": null,
   "metadata": {},
   "outputs": [],
   "source": []
  },
  {
   "cell_type": "code",
   "execution_count": null,
   "metadata": {},
   "outputs": [],
   "source": []
  }
 ],
 "metadata": {
  "kernelspec": {
   "display_name": "Python 3",
   "language": "python",
   "name": "python3"
  },
  "language_info": {
   "codemirror_mode": {
    "name": "ipython",
    "version": 3
   },
   "file_extension": ".py",
   "mimetype": "text/x-python",
   "name": "python",
   "nbconvert_exporter": "python",
   "pygments_lexer": "ipython3",
   "version": "3.6.5"
  }
 },
 "nbformat": 4,
 "nbformat_minor": 2
}
